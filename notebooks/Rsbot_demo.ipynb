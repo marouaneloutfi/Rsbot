{
 "cells": [
  {
   "cell_type": "markdown",
   "metadata": {
    "slideshow": {
     "slide_type": "slide"
    }
   },
   "source": [
    "![](https://www.group-cva.com/wp-content/themes/group_cva/media/logo_cva.svg)\n",
    "# Deep Learning in Remote Sensing\n",
    "### Introduction to Rsbot"
   ]
  },
  {
   "cell_type": "markdown",
   "metadata": {
    "slideshow": {
     "slide_type": "slide"
    }
   },
   "source": [
    "## What is Rsbot?\n",
    "\n",
    "**_Rsbot is a python module designed to make Remote sensing with Google Earth Engine a lot easier._**\n",
    "    \n",
    "**_With extensibility at its core, Rsbot is a practical solution to building deeplearning pipelines._**\n"
   ]
  },
  {
   "cell_type": "markdown",
   "metadata": {
    "slideshow": {
     "slide_type": "fragment"
    }
   },
   "source": [
    "## Main Features:\n",
    "* Construct Datasets arround Satellite imagery\n",
    "* Provides ready to use deep learning models\n"
   ]
  },
  {
   "cell_type": "markdown",
   "metadata": {
    "slideshow": {
     "slide_type": "slide"
    }
   },
   "source": [
    "# Cropland classification demo\n",
    "\n",
    "**The Goal of this example is to identify crop types in fields using landsat8 satellite imagery.**\\\n",
    "**The architecture of our example is as follows**\n"
   ]
  },
  {
   "cell_type": "markdown",
   "metadata": {
    "slideshow": {
     "slide_type": "slide"
    }
   },
   "source": [
    "**_First we clone the github repository and install the required dependencies_**"
   ]
  },
  {
   "cell_type": "code",
   "execution_count": null,
   "metadata": {
    "slideshow": {
     "slide_type": "fragment"
    }
   },
   "outputs": [],
   "source": [
    "!git clone https://github.com/marouaneloutfi/Rsbot.git\n",
    "!pip install -r Rsbot/requirements.txt"
   ]
  },
  {
   "cell_type": "markdown",
   "metadata": {
    "slideshow": {
     "slide_type": "slide"
    }
   },
   "source": [
    "**_Import the classes and method we will be using for the Demo_**"
   ]
  },
  {
   "cell_type": "code",
   "execution_count": null,
   "metadata": {
    "slideshow": {
     "slide_type": "fragment"
    }
   },
   "outputs": [],
   "source": [
    "from Rsbot.gee.core import Gee, Landsat8\n",
    "from Rsbot.gee.crops import Crops\n",
    "from Rsbot.gee.utils import temp_concatenate\n",
    "from Rsbot.gee.dataset import Dataset\n",
    "from Rsbot.models.unet_3d import Unet3D\n",
    "from Rsbot.gee.tf_io import TfDatasetParser, binary_mask, binary_mask_original"
   ]
  },
  {
   "cell_type": "markdown",
   "metadata": {
    "slideshow": {
     "slide_type": "slide"
    }
   },
   "source": [
    "**_Initialize and authenticate to google earth engine through Rsbot Gee Class_**"
   ]
  },
  {
   "cell_type": "code",
   "execution_count": null,
   "metadata": {
    "slideshow": {
     "slide_type": "fragment"
    }
   },
   "outputs": [],
   "source": [
    "gee = Gee.get_instance(ipython=True)"
   ]
  },
  {
   "cell_type": "markdown",
   "metadata": {
    "slideshow": {
     "slide_type": "slide"
    }
   },
   "source": [
    "**_Create a Landsat8 object to access and transform the Lansat8 satellite imagery_**"
   ]
  },
  {
   "cell_type": "code",
   "execution_count": null,
   "metadata": {
    "slideshow": {
     "slide_type": "fragment"
    }
   },
   "outputs": [],
   "source": [
    "landsat = Landsat8('LANDSAT/LC08/C01/T1_SR')"
   ]
  },
  {
   "cell_type": "markdown",
   "metadata": {
    "slideshow": {
     "slide_type": "slide"
    }
   },
   "source": [
    "**_The module should also come with a pre-defined wrapper classes for some popular Earth Engine datasets,\n",
    "For now we Have only one Dataset ready to use which is the [USDA](https://developers.google.com/earth-engine/datasets/catalog/USDA_NASS_CDL) NASS Cropland Data Layers._**\n",
    "\n",
    "\n",
    "**_This Data layer describes for each year crop-specific land cover for the entire country of  United States.\n",
    "for the purposes of this example, we use the 2017 cropland layer to train our model_**"
   ]
  },
  {
   "cell_type": "code",
   "execution_count": null,
   "metadata": {
    "slideshow": {
     "slide_type": "fragment"
    }
   },
   "outputs": [],
   "source": [
    "crops = Crops(2017)"
   ]
  }
 ],
 "metadata": {
  "celltoolbar": "Slideshow",
  "kernelspec": {
   "display_name": "Python 3",
   "language": "python",
   "name": "python3"
  }
 },
 "nbformat": 4,
 "nbformat_minor": 2
}
